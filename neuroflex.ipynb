{
 "cells": [
  {
   "cell_type": "code",
   "execution_count": 53,
   "metadata": {},
   "outputs": [],
   "source": [
    "import numpy as np\n",
    "from sklearn.model_selection import train_test_split\n",
    "from tensorflow.keras.datasets import mnist\n",
    "from sklearn.metrics import accuracy_score\n",
    "from tensorflow.keras.models import Sequential\n",
    "from tensorflow.keras.layers import Dense, LSTM\n",
    "from tensorflow.keras.optimizers import Adam\n",
    "from tensorflow.keras.callbacks import Callback"
   ]
  },
  {
   "cell_type": "code",
   "execution_count": 54,
   "metadata": {},
   "outputs": [],
   "source": [
    "from src.neuro_fuzzy import *"
   ]
  },
  {
   "cell_type": "code",
   "execution_count": 55,
   "metadata": {},
   "outputs": [],
   "source": [
    "(X_train, y_train), (X_test, y_test) = mnist.load_data()\n",
    "X_train = X_train.reshape((X_train.shape[0], -1)) / 255.0\n",
    "X_test = X_test.reshape((X_test.shape[0], -1)) / 255.0\n",
    "y_train = np.eye(10)[y_train]\n",
    "y_test = np.eye(10)[y_test]\n",
    "\n",
    "X_train, X_val, y_train, y_val = train_test_split(\n",
    "    X_train, y_train, test_size=0.1, random_state=42)"
   ]
  },
  {
   "cell_type": "code",
   "execution_count": 56,
   "metadata": {},
   "outputs": [
    {
     "name": "stdout",
     "output_type": "stream",
     "text": [
      "313/313 [==============================] - 1s 1ms/step\n",
      "Accuracy: 0.9008\n"
     ]
    }
   ],
   "source": [
    "max_neurons = 10\n",
    "threshold_epochs = 3\n",
    "architecture = NeuroFuzzyNetwork(\n",
    "    X_train_lstm.shape[2], y_train.shape[1], 10, 5)\n",
    "neurogenesis = NeuroGenesis(architecture, max_neurons, threshold_epochs)\n",
    "\n",
    "# Train and test the model\n",
    "X_train_lstm = X_train_lstm.reshape((X_train_lstm.shape[0], 1, -1))\n",
    "X_test_lstm = X_test_lstm.reshape((X_test_lstm.shape[0], 1, -1))\n",
    "\n",
    "architecture.train(X_train_lstm, y_train, epochs=10)\n",
    "predictions = architecture.predict(X_test_lstm)\n",
    "\n",
    "# Evaluate accuracy\n",
    "rounded_predictions = np.round(predictions)\n",
    "accuracy = accuracy_score(np.argmax(y_test, axis=1),\n",
    "                          np.argmax(rounded_predictions, axis=1))\n",
    "print(f\"Accuracy: {accuracy}\")"
   ]
  },
  {
   "cell_type": "code",
   "execution_count": null,
   "metadata": {},
   "outputs": [],
   "source": []
  }
 ],
 "metadata": {
  "kernelspec": {
   "display_name": "work",
   "language": "python",
   "name": "python3"
  },
  "language_info": {
   "codemirror_mode": {
    "name": "ipython",
    "version": 3
   },
   "file_extension": ".py",
   "mimetype": "text/x-python",
   "name": "python",
   "nbconvert_exporter": "python",
   "pygments_lexer": "ipython3",
   "version": "3.8.16"
  }
 },
 "nbformat": 4,
 "nbformat_minor": 2
}
